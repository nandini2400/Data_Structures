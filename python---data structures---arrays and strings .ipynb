{
 "cells": [
  {
   "cell_type": "markdown",
   "id": "3244a33b",
   "metadata": {},
   "source": [
    "# ###PALINDROME PROGRAM \n",
    "    "
   ]
  },
  {
   "cell_type": "code",
   "execution_count": null,
   "id": "b9e93cd9",
   "metadata": {},
   "outputs": [],
   "source": [
    "def palindrome(s):\n",
    "    left = 0\n",
    "    right = len(s)-1\n",
    "    \n",
    "    while left < right:\n",
    "        \n",
    "        if s[left]!= s[right]:\n",
    "            return (\"Not a palindrome\")\n",
    "        left = left+1\n",
    "        right = right-1\n",
    "        \n",
    "    return (\"It is palindrome \")\n",
    "\n",
    "print(palindrome(\"madam\"))  \n",
    "print(palindrome(\"hello\"))"
   ]
  },
  {
   "cell_type": "markdown",
   "id": "b27b10b1",
   "metadata": {},
   "source": [
    "### TO FIND SUM OF TWO INTEGERS USING SORTED ARRAY "
   ]
  },
  {
   "cell_type": "code",
   "execution_count": 32,
   "id": "2f35644a",
   "metadata": {},
   "outputs": [
    {
     "name": "stdout",
     "output_type": "stream",
     "text": [
      "True\n"
     ]
    }
   ],
   "source": [
    "def sorted_array(num,target):\n",
    "    left = 0 \n",
    "    right = len(num)-1\n",
    "    \n",
    "    \n",
    "    while left < right :\n",
    "        current_sum = num[left]+num[right]\n",
    "        \n",
    "        if current_sum == target:\n",
    "            return True\n",
    "        if current_sum > target :\n",
    "            right = right-1\n",
    "        else:\n",
    "            left = left +1\n",
    "            \n",
    "    return False\n",
    "\n",
    "num = [1,2,3,4,5]\n",
    "\n",
    "target = 5\n",
    "\n",
    "print(sorted_array(num ,target))\n"
   ]
  },
  {
   "cell_type": "markdown",
   "id": "4fffdae7",
   "metadata": {},
   "source": [
    "## SORTING TWO ARRAYS IN ASCENDING ORDER\n"
   ]
  },
  {
   "cell_type": "code",
   "execution_count": 34,
   "id": "ea1daf1e",
   "metadata": {},
   "outputs": [
    {
     "name": "stdout",
     "output_type": "stream",
     "text": [
      "[1, 3, 4, 6, 7, 8, 9, 13]\n"
     ]
    }
   ],
   "source": [
    "def sorting_arrays(arr1, arr2):\n",
    "    i = j = 0\n",
    "    ans = []\n",
    "    while i < len(arr1) and j < len(arr2):\n",
    "        if arr1[i] < arr2[j]:\n",
    "            ans. append(arr1[i])\n",
    "            i = i+1\n",
    "        else:\n",
    "            ans.append(arr2[j])\n",
    "            j=j+1\n",
    "    while i < len(arr1):\n",
    "        ans.append(arr1[i])\n",
    "        i = i+1\n",
    "    while j < len(arr2):\n",
    "        ans.append(arr2[j])\n",
    "        j= j+1\n",
    "        \n",
    "    return ans\n",
    "\n",
    "arr1  = [1,3,6,9]\n",
    "arr2 = [4,7,8,13]\n",
    "\n",
    "print(sorting_arrays(arr1, arr2))"
   ]
  },
  {
   "cell_type": "markdown",
   "id": "a7114f8d",
   "metadata": {},
   "source": [
    "## SUBSEQUENCE "
   ]
  },
  {
   "cell_type": "code",
   "execution_count": 37,
   "id": "28e01e75",
   "metadata": {},
   "outputs": [
    {
     "name": "stdout",
     "output_type": "stream",
     "text": [
      "True\n"
     ]
    }
   ],
   "source": [
    "def issubsequence(s:str, t:str ):\n",
    "    i = j = 0\n",
    "    while i < len(s) and j < len(t):\n",
    "        if s[i] == t[j]:\n",
    "            i = i+1\n",
    "        j = j+1\n",
    "    return i == len(s)\n",
    "s = 'abc'\n",
    "t = 'abcdef'\n",
    "print(issubsequence(s,t))"
   ]
  },
  {
   "cell_type": "markdown",
   "id": "a449fa3e",
   "metadata": {},
   "source": [
    "# #REVERSE STRING"
   ]
  },
  {
   "cell_type": "code",
   "execution_count": 44,
   "id": "dd8c6815",
   "metadata": {},
   "outputs": [
    {
     "name": "stdout",
     "output_type": "stream",
     "text": [
      "ih\n"
     ]
    }
   ],
   "source": [
    "def reversing(num):\n",
    "    rev = ''\n",
    "    i = len(num)-1\n",
    "    while i >=0 :\n",
    "        rev = rev + num[i]\n",
    "        i  = i-1\n",
    "    return rev \n",
    "num = 'hi'\n",
    "print(reversing(num))\n"
   ]
  },
  {
   "cell_type": "code",
   "execution_count": 45,
   "id": "8b4d183f",
   "metadata": {},
   "outputs": [
    {
     "name": "stdout",
     "output_type": "stream",
     "text": [
      "[\"o\", \"l\", \"l\", \"e\", \"h\"]\n"
     ]
    }
   ],
   "source": [
    "def reverse_string(s):\n",
    "    return s[::-1]  \n",
    "\n",
    "s = [\"h\", \"e\", \"l\", \"l\", \"o\"]\n",
    "output = reverse_string(s)\n",
    "\n",
    "# Convert to string and replace single quotes with double quotes\n",
    "output_str = str(output).replace(\"'\", '\"')\n",
    "print(output_str)  "
   ]
  },
  {
   "cell_type": "raw",
   "id": "11e55d25",
   "metadata": {},
   "source": []
  },
  {
   "cell_type": "code",
   "execution_count": 51,
   "id": "58282f6c",
   "metadata": {},
   "outputs": [
    {
     "name": "stdout",
     "output_type": "stream",
     "text": [
      "['h', 'e', 'l', 'l', 'o']\n"
     ]
    }
   ],
   "source": [
    "class Solution:\n",
    "    def reverseString(self, s):\n",
    "        left, right = 0, len(s) - 1\n",
    "        while left < right:\n",
    "            s[left], s[right] = s[right], s[left]\n",
    "            left, right = left + 1, right - 1\n",
    "s = [\"h\", \"e\", \"l\", \"l\", \"o\"]\n",
    "reverse_string(s)\n",
    "print(s)"
   ]
  },
  {
   "cell_type": "markdown",
   "id": "c955fcc2",
   "metadata": {},
   "source": [
    "# #Squaring and sorting of an array "
   ]
  },
  {
   "cell_type": "code",
   "execution_count": 57,
   "id": "276af2f5",
   "metadata": {},
   "outputs": [
    {
     "name": "stdout",
     "output_type": "stream",
     "text": [
      "[1, 9, 16, 36]\n"
     ]
    }
   ],
   "source": [
    "def sorting_arrays(num):\n",
    "    squared_num = [i * i for i in num]  # Create a list of squared values\n",
    "    squared_num.sort()  # Sort the list of squared values\n",
    "    return squared_num  # Return the sorted list\n",
    "\n",
    "num = [-1, -3, 4, 6]\n",
    "print(sorting_arrays(num))\n"
   ]
  },
  {
   "cell_type": "code",
   "execution_count": 58,
   "id": "ac3c1660",
   "metadata": {},
   "outputs": [
    {
     "ename": "SyntaxError",
     "evalue": "cannot assign to function call (2592595788.py, line 1)",
     "output_type": "error",
     "traceback": [
      "\u001b[0;36m  Cell \u001b[0;32mIn[58], line 1\u001b[0;36m\u001b[0m\n\u001b[0;31m    answer = max(3, 3 - 2 + 1) = 2\u001b[0m\n\u001b[0m             ^\u001b[0m\n\u001b[0;31mSyntaxError\u001b[0m\u001b[0;31m:\u001b[0m cannot assign to function call\n"
     ]
    }
   ],
   "source": [
    "answer = max(3, 3 - 2 + 1) = 2\n",
    "print(answer)"
   ]
  },
  {
   "cell_type": "markdown",
   "id": "28878c77",
   "metadata": {},
   "source": [
    "## Sliding window"
   ]
  },
  {
   "cell_type": "markdown",
   "id": "b18ed9e6",
   "metadata": {},
   "source": [
    "### longest subarray with sum less than or equal to 'k'"
   ]
  },
  {
   "cell_type": "code",
   "execution_count": 61,
   "id": "3b1226d3",
   "metadata": {},
   "outputs": [
    {
     "name": "stdout",
     "output_type": "stream",
     "text": [
      "3\n"
     ]
    }
   ],
   "source": [
    "def find_length(nums, k):\n",
    "    # curr is the current sum of the window\n",
    "    left = curr = ans = 0\n",
    "    for right in range(len(nums)):\n",
    "        curr += nums[right]\n",
    "        while curr > k:\n",
    "            curr -= nums[left]\n",
    "            left += 1\n",
    "        ans = max(ans, right - left + 1)\n",
    "    \n",
    "    return ans\n",
    "nums = [1, 2, 3, 4, 5]\n",
    "k = 7\n",
    "print(find_length(nums, k))"
   ]
  },
  {
   "cell_type": "markdown",
   "id": "1cfc9f5c",
   "metadata": {},
   "source": [
    "## Sub Arrays"
   ]
  },
  {
   "cell_type": "code",
   "execution_count": null,
   "id": "9e1d43a7",
   "metadata": {},
   "outputs": [],
   "source": []
  }
 ],
 "metadata": {
  "kernelspec": {
   "display_name": "Python 3 (ipykernel)",
   "language": "python",
   "name": "python3"
  },
  "language_info": {
   "codemirror_mode": {
    "name": "ipython",
    "version": 3
   },
   "file_extension": ".py",
   "mimetype": "text/x-python",
   "name": "python",
   "nbconvert_exporter": "python",
   "pygments_lexer": "ipython3",
   "version": "3.10.9"
  }
 },
 "nbformat": 4,
 "nbformat_minor": 5
}
