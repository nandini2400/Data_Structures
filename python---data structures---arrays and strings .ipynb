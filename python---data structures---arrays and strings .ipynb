{
 "cells": [
  {
   "cell_type": "markdown",
   "id": "8d119b52",
   "metadata": {},
   "source": [
    "# ###PALINDROME PROGRAM \n",
    "    "
   ]
  },
  {
   "cell_type": "code",
   "execution_count": 1,
   "id": "793f08cc",
   "metadata": {},
   "outputs": [
    {
     "name": "stdout",
     "output_type": "stream",
     "text": [
      "It is palindrome \n",
      "Not a palindrome\n"
     ]
    }
   ],
   "source": [
    "def palindrome(s):\n",
    "    left = 0\n",
    "    right = len(s)-1\n",
    "    \n",
    "    while left < right:\n",
    "        \n",
    "        if s[left]!= s[right]:\n",
    "            return (\"Not a palindrome\")\n",
    "        left = left+1\n",
    "        right = right-1\n",
    "        \n",
    "    return (\"It is palindrome \")\n",
    "\n",
    "print(palindrome(\"madam\"))  \n",
    "print(palindrome(\"hello\"))"
   ]
  },
  {
   "cell_type": "markdown",
   "id": "39bfa725",
   "metadata": {},
   "source": [
    "### TO FIND SUM OF TWO INTEGERS USING SORTED ARRAY "
   ]
  },
  {
   "cell_type": "code",
   "execution_count": 2,
   "id": "983be420",
   "metadata": {},
   "outputs": [
    {
     "name": "stdout",
     "output_type": "stream",
     "text": [
      "True\n"
     ]
    }
   ],
   "source": [
    "def sorted_array(num,target):\n",
    "    left = 0 \n",
    "    right = len(num)-1\n",
    "    \n",
    "    \n",
    "    while left < right :\n",
    "        current_sum = num[left]+num[right]\n",
    "        \n",
    "        if current_sum == target:\n",
    "            return True\n",
    "        if current_sum > target :\n",
    "            right = right-1\n",
    "        else:\n",
    "            left = left +1\n",
    "            \n",
    "    return False\n",
    "\n",
    "num = [1,2,3,4,5]\n",
    "\n",
    "target = 5\n",
    "\n",
    "print(sorted_array(num ,target))\n"
   ]
  },
  {
   "cell_type": "markdown",
   "id": "b9290e4e",
   "metadata": {},
   "source": [
    "## SORTING TWO ARRAYS IN ASCENDING ORDER\n"
   ]
  },
  {
   "cell_type": "code",
   "execution_count": 3,
   "id": "35ec1657",
   "metadata": {},
   "outputs": [
    {
     "name": "stdout",
     "output_type": "stream",
     "text": [
      "[1, 3, 4, 6, 7, 8, 9, 13]\n"
     ]
    }
   ],
   "source": [
    "def sorting_arrays(arr1, arr2):\n",
    "    i = j = 0\n",
    "    ans = []\n",
    "    while i < len(arr1) and j < len(arr2):\n",
    "        if arr1[i] < arr2[j]:\n",
    "            ans. append(arr1[i])\n",
    "            i = i+1\n",
    "        else:\n",
    "            ans.append(arr2[j])\n",
    "            j=j+1\n",
    "    while i < len(arr1):\n",
    "        ans.append(arr1[i])\n",
    "        i = i+1\n",
    "    while j < len(arr2):\n",
    "        ans.append(arr2[j])\n",
    "        j= j+1\n",
    "        \n",
    "    return ans\n",
    "\n",
    "arr1  = [1,3,6,9]\n",
    "arr2 = [4,7,8,13]\n",
    "\n",
    "print(sorting_arrays(arr1, arr2))"
   ]
  },
  {
   "cell_type": "markdown",
   "id": "f107529a",
   "metadata": {},
   "source": [
    "## SUBSEQUENCE "
   ]
  },
  {
   "cell_type": "code",
   "execution_count": null,
   "id": "c51b6afe",
   "metadata": {},
   "outputs": [
    {
     "name": "stdout",
     "output_type": "stream",
     "text": [
      "True\n"
     ]
    }
   ],
   "source": [
    "def issubsequence(s:str, t:str ):\n",
    "    i = j = 0\n",
    "    while i < len(s) and j < len(t):\n",
    "        if s[i] == t[j]:\n",
    "            i = i+1\n",
    "        j = j+1\n",
    "    return i == len(s)\n",
    "s = 'abc'\n",
    "t = 'abcdef'\n",
    "print(issubsequence(s,t))"
   ]
  },
  {
   "cell_type": "markdown",
   "id": "7acd7bbf",
   "metadata": {},
   "source": [
    "# #REVERSE STRING"
   ]
  },
  {
   "cell_type": "code",
   "execution_count": null,
   "id": "24310117",
   "metadata": {},
   "outputs": [
    {
     "name": "stdout",
     "output_type": "stream",
     "text": [
      "ih\n"
     ]
    }
   ],
   "source": [
    "def reversing(num):\n",
    "    rev = ''\n",
    "    i = len(num)-1\n",
    "    while i >=0 :\n",
    "        rev = rev + num[i]\n",
    "        i  = i-1\n",
    "    return rev \n",
    "num = 'hi'\n",
    "print(reversing(num))\n"
   ]
  },
  {
   "cell_type": "code",
   "execution_count": null,
   "id": "79ac7658",
   "metadata": {},
   "outputs": [
    {
     "name": "stdout",
     "output_type": "stream",
     "text": [
      "[\"o\", \"l\", \"l\", \"e\", \"h\"]\n"
     ]
    }
   ],
   "source": [
    "def reverse_string(s):\n",
    "    return s[::-1]  \n",
    "\n",
    "s = [\"h\", \"e\", \"l\", \"l\", \"o\"]\n",
    "output = reverse_string(s)\n",
    "\n",
    "# Convert to string and replace single quotes with double quotes\n",
    "output_str = str(output).replace(\"'\", '\"')\n",
    "print(output_str)  "
   ]
  },
  {
   "cell_type": "raw",
   "id": "cd12ebb3",
   "metadata": {},
   "source": []
  },
  {
   "cell_type": "code",
   "execution_count": null,
   "id": "1bb19f07",
   "metadata": {},
   "outputs": [
    {
     "name": "stdout",
     "output_type": "stream",
     "text": [
      "['h', 'e', 'l', 'l', 'o']\n"
     ]
    }
   ],
   "source": [
    "class Solution:\n",
    "    def reverseString(self, s):\n",
    "        left, right = 0, len(s) - 1\n",
    "        while left < right:\n",
    "            s[left], s[right] = s[right], s[left]\n",
    "            left, right = left + 1, right - 1\n",
    "s = [\"h\", \"e\", \"l\", \"l\", \"o\"]\n",
    "reverse_string(s)\n",
    "print(s)"
   ]
  },
  {
   "cell_type": "raw",
   "id": "9a986314",
   "metadata": {},
   "source": []
  }
 ],
 "metadata": {
  "kernelspec": {
   "display_name": "Python 3 (ipykernel)",
   "language": "python",
   "name": "python3"
  },
  "language_info": {
   "codemirror_mode": {
    "name": "ipython",
    "version": 3
   },
   "file_extension": ".py",
   "mimetype": "text/x-python",
   "name": "python",
   "nbconvert_exporter": "python",
   "pygments_lexer": "ipython3",
   "version": "3.11.4"
  }
 },
 "nbformat": 4,
 "nbformat_minor": 5
}
